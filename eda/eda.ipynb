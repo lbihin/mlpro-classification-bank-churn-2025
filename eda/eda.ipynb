{
 "cells": [
  {
   "cell_type": "markdown",
   "metadata": {},
   "source": [
    "# EDA\n",
    "\n",
    "**Target:** Exited: Si le client a résilié (1: oui, 0: non)"
   ]
  },
  {
   "cell_type": "code",
   "execution_count": 37,
   "metadata": {},
   "outputs": [],
   "source": [
    "from pprint import pprint\n",
    "import numpy as np\n",
    "import pandas as pd\n",
    "import matplotlib.pyplot as plt\n",
    "import seaborn as sns\n",
    "from sklearn.model_selection import train_test_split\n",
    "\n",
    "import sys\n",
    "\n",
    "# Load configuration\n",
    "sys.path.append('../')\n",
    "\n",
    "from utils import RANDOM_STATE, TEST_SIZE"
   ]
  },
  {
   "cell_type": "code",
   "execution_count": 3,
   "metadata": {},
   "outputs": [
    {
     "data": {
      "text/html": [
       "<div>\n",
       "<style scoped>\n",
       "    .dataframe tbody tr th:only-of-type {\n",
       "        vertical-align: middle;\n",
       "    }\n",
       "\n",
       "    .dataframe tbody tr th {\n",
       "        vertical-align: top;\n",
       "    }\n",
       "\n",
       "    .dataframe thead th {\n",
       "        text-align: right;\n",
       "    }\n",
       "</style>\n",
       "<table border=\"1\" class=\"dataframe\">\n",
       "  <thead>\n",
       "    <tr style=\"text-align: right;\">\n",
       "      <th></th>\n",
       "      <th>ID</th>\n",
       "      <th>CustomerId</th>\n",
       "      <th>Surname</th>\n",
       "      <th>CreditScore</th>\n",
       "      <th>Geography</th>\n",
       "      <th>Gender</th>\n",
       "      <th>Age</th>\n",
       "      <th>Tenure</th>\n",
       "      <th>Balance</th>\n",
       "      <th>NumOfProducts</th>\n",
       "      <th>HasCrCard</th>\n",
       "      <th>IsActiveMember</th>\n",
       "      <th>EstimatedSalary</th>\n",
       "      <th>Exited</th>\n",
       "    </tr>\n",
       "  </thead>\n",
       "  <tbody>\n",
       "    <tr>\n",
       "      <th>0</th>\n",
       "      <td>37765</td>\n",
       "      <td>15794860</td>\n",
       "      <td>Ch'eng</td>\n",
       "      <td>627</td>\n",
       "      <td>France</td>\n",
       "      <td>Male</td>\n",
       "      <td>28.0</td>\n",
       "      <td>7</td>\n",
       "      <td>131694.04</td>\n",
       "      <td>1</td>\n",
       "      <td>1.0</td>\n",
       "      <td>1.0</td>\n",
       "      <td>161205.61</td>\n",
       "      <td>0</td>\n",
       "    </tr>\n",
       "    <tr>\n",
       "      <th>1</th>\n",
       "      <td>130453</td>\n",
       "      <td>15728005</td>\n",
       "      <td>Hargreaves</td>\n",
       "      <td>597</td>\n",
       "      <td>France</td>\n",
       "      <td>Male</td>\n",
       "      <td>34.0</td>\n",
       "      <td>2</td>\n",
       "      <td>0.00</td>\n",
       "      <td>2</td>\n",
       "      <td>0.0</td>\n",
       "      <td>1.0</td>\n",
       "      <td>181419.29</td>\n",
       "      <td>0</td>\n",
       "    </tr>\n",
       "    <tr>\n",
       "      <th>2</th>\n",
       "      <td>77297</td>\n",
       "      <td>15686810</td>\n",
       "      <td>Ts'ui</td>\n",
       "      <td>724</td>\n",
       "      <td>France</td>\n",
       "      <td>Male</td>\n",
       "      <td>39.0</td>\n",
       "      <td>7</td>\n",
       "      <td>0.00</td>\n",
       "      <td>2</td>\n",
       "      <td>1.0</td>\n",
       "      <td>1.0</td>\n",
       "      <td>100862.54</td>\n",
       "      <td>0</td>\n",
       "    </tr>\n",
       "    <tr>\n",
       "      <th>3</th>\n",
       "      <td>40858</td>\n",
       "      <td>15760244</td>\n",
       "      <td>Trevisano</td>\n",
       "      <td>663</td>\n",
       "      <td>Germany</td>\n",
       "      <td>Female</td>\n",
       "      <td>56.0</td>\n",
       "      <td>5</td>\n",
       "      <td>118577.24</td>\n",
       "      <td>3</td>\n",
       "      <td>1.0</td>\n",
       "      <td>0.0</td>\n",
       "      <td>61164.45</td>\n",
       "      <td>1</td>\n",
       "    </tr>\n",
       "    <tr>\n",
       "      <th>4</th>\n",
       "      <td>19804</td>\n",
       "      <td>15810563</td>\n",
       "      <td>French</td>\n",
       "      <td>627</td>\n",
       "      <td>France</td>\n",
       "      <td>Female</td>\n",
       "      <td>33.0</td>\n",
       "      <td>5</td>\n",
       "      <td>0.00</td>\n",
       "      <td>2</td>\n",
       "      <td>1.0</td>\n",
       "      <td>1.0</td>\n",
       "      <td>103737.82</td>\n",
       "      <td>0</td>\n",
       "    </tr>\n",
       "  </tbody>\n",
       "</table>\n",
       "</div>"
      ],
      "text/plain": [
       "       ID  CustomerId     Surname  CreditScore Geography  Gender   Age  \\\n",
       "0   37765    15794860      Ch'eng          627    France    Male  28.0   \n",
       "1  130453    15728005  Hargreaves          597    France    Male  34.0   \n",
       "2   77297    15686810       Ts'ui          724    France    Male  39.0   \n",
       "3   40858    15760244   Trevisano          663   Germany  Female  56.0   \n",
       "4   19804    15810563      French          627    France  Female  33.0   \n",
       "\n",
       "   Tenure    Balance  NumOfProducts  HasCrCard  IsActiveMember  \\\n",
       "0       7  131694.04              1        1.0             1.0   \n",
       "1       2       0.00              2        0.0             1.0   \n",
       "2       7       0.00              2        1.0             1.0   \n",
       "3       5  118577.24              3        1.0             0.0   \n",
       "4       5       0.00              2        1.0             1.0   \n",
       "\n",
       "   EstimatedSalary  Exited  \n",
       "0        161205.61       0  \n",
       "1        181419.29       0  \n",
       "2        100862.54       0  \n",
       "3         61164.45       1  \n",
       "4        103737.82       0  "
      ]
     },
     "execution_count": 3,
     "metadata": {},
     "output_type": "execute_result"
    }
   ],
   "source": [
    "# Load the data\n",
    "df = pd.read_csv('../data/train_data.csv')\n",
    "df.head()"
   ]
  },
  {
   "cell_type": "markdown",
   "metadata": {},
   "source": [
    "On sépare le dataset en une partie train et test set"
   ]
  },
  {
   "cell_type": "code",
   "execution_count": 4,
   "metadata": {},
   "outputs": [
    {
     "name": "stdout",
     "output_type": "stream",
     "text": [
      "The X_train set contains: (114863, 13) elements\n",
      "The y_train set contains: (114863,) elements\n",
      "The X_test set contains: (28716, 13) elements\n",
      "The y_test set contains: (28716,) elements\n"
     ]
    }
   ],
   "source": [
    "y = df.pop('Exited')\n",
    "X = df.copy()\n",
    "\n",
    "\n",
    "X_train, X_test, y_train, y_test = train_test_split(X, y, test_size=TEST_SIZE, random_state=RANDOM_STATE)\n",
    "\n",
    "print(f\"The X_train set contains: {X_train.shape} elements\")\n",
    "print(f\"The y_train set contains: {y_train.shape} elements\")\n",
    "print(f\"The X_test set contains: {X_test.shape} elements\")\n",
    "print(f\"The y_test set contains: {y_test.shape} elements\")"
   ]
  },
  {
   "cell_type": "code",
   "execution_count": 5,
   "metadata": {},
   "outputs": [
    {
     "name": "stdout",
     "output_type": "stream",
     "text": [
      "train_df shape: (114863, 14)\n",
      "test_df shape: (28716, 14)\n",
      "            ID  CustomerId   Surname  CreditScore Geography  Gender   Age  \\\n",
      "116452    6733    15773869  Onwudiwe          758    France    Male  38.0   \n",
      "42249   133334    15783501       Kao          598   Germany    Male  35.0   \n",
      "84801   161055    15628523     Chien          724    France  Female  33.0   \n",
      "61695   161545    15613772   Maclean          683    France  Female  34.0   \n",
      "5752    119591    15806941  Chidubem          639    France  Female  25.0   \n",
      "\n",
      "        Tenure    Balance  NumOfProducts  HasCrCard  IsActiveMember  \\\n",
      "116452       3       0.00              2        1.0             1.0   \n",
      "42249        7  135870.80              1        1.0             1.0   \n",
      "84801        3       0.00              2        1.0             1.0   \n",
      "61695        9       0.00              2        0.0             1.0   \n",
      "5752         2  121326.52              1        1.0             1.0   \n",
      "\n",
      "        EstimatedSalary  Exited  \n",
      "116452         93624.55       0  \n",
      "42249         170514.81       0  \n",
      "84801         198161.07       0  \n",
      "61695         185547.71       0  \n",
      "5752          162517.33       0  \n"
     ]
    }
   ],
   "source": [
    "# Concatenate X_train and y_train to create the training DataFrame\n",
    "train_df = pd.concat([X_train, y_train], axis=1)\n",
    "\n",
    "# Concatenate X_test and y_test to create the test DataFrame\n",
    "test_df = pd.concat([X_test, y_test], axis=1)\n",
    "\n",
    "print(\"train_df shape:\", train_df.shape)\n",
    "print(\"test_df shape:\", test_df.shape)\n",
    "\n",
    "print(train_df.head())"
   ]
  },
  {
   "cell_type": "code",
   "execution_count": 6,
   "metadata": {},
   "outputs": [
    {
     "data": {
      "text/html": [
       "<div>\n",
       "<style scoped>\n",
       "    .dataframe tbody tr th:only-of-type {\n",
       "        vertical-align: middle;\n",
       "    }\n",
       "\n",
       "    .dataframe tbody tr th {\n",
       "        vertical-align: top;\n",
       "    }\n",
       "\n",
       "    .dataframe thead th {\n",
       "        text-align: right;\n",
       "    }\n",
       "</style>\n",
       "<table border=\"1\" class=\"dataframe\">\n",
       "  <thead>\n",
       "    <tr style=\"text-align: right;\">\n",
       "      <th></th>\n",
       "      <th>Contient NaN</th>\n",
       "    </tr>\n",
       "  </thead>\n",
       "  <tbody>\n",
       "    <tr>\n",
       "      <th>ID</th>\n",
       "      <td>False</td>\n",
       "    </tr>\n",
       "    <tr>\n",
       "      <th>CustomerId</th>\n",
       "      <td>False</td>\n",
       "    </tr>\n",
       "    <tr>\n",
       "      <th>Surname</th>\n",
       "      <td>False</td>\n",
       "    </tr>\n",
       "    <tr>\n",
       "      <th>CreditScore</th>\n",
       "      <td>False</td>\n",
       "    </tr>\n",
       "    <tr>\n",
       "      <th>Geography</th>\n",
       "      <td>False</td>\n",
       "    </tr>\n",
       "    <tr>\n",
       "      <th>Gender</th>\n",
       "      <td>False</td>\n",
       "    </tr>\n",
       "    <tr>\n",
       "      <th>Age</th>\n",
       "      <td>False</td>\n",
       "    </tr>\n",
       "    <tr>\n",
       "      <th>Tenure</th>\n",
       "      <td>False</td>\n",
       "    </tr>\n",
       "    <tr>\n",
       "      <th>Balance</th>\n",
       "      <td>False</td>\n",
       "    </tr>\n",
       "    <tr>\n",
       "      <th>NumOfProducts</th>\n",
       "      <td>False</td>\n",
       "    </tr>\n",
       "    <tr>\n",
       "      <th>HasCrCard</th>\n",
       "      <td>False</td>\n",
       "    </tr>\n",
       "    <tr>\n",
       "      <th>IsActiveMember</th>\n",
       "      <td>False</td>\n",
       "    </tr>\n",
       "    <tr>\n",
       "      <th>EstimatedSalary</th>\n",
       "      <td>False</td>\n",
       "    </tr>\n",
       "    <tr>\n",
       "      <th>Exited</th>\n",
       "      <td>False</td>\n",
       "    </tr>\n",
       "  </tbody>\n",
       "</table>\n",
       "</div>"
      ],
      "text/plain": [
       "                 Contient NaN\n",
       "ID                      False\n",
       "CustomerId              False\n",
       "Surname                 False\n",
       "CreditScore             False\n",
       "Geography               False\n",
       "Gender                  False\n",
       "Age                     False\n",
       "Tenure                  False\n",
       "Balance                 False\n",
       "NumOfProducts           False\n",
       "HasCrCard               False\n",
       "IsActiveMember          False\n",
       "EstimatedSalary         False\n",
       "Exited                  False"
      ]
     },
     "execution_count": 6,
     "metadata": {},
     "output_type": "execute_result"
    }
   ],
   "source": [
    "train_df.isna().any().to_frame(name='Contient NaN')"
   ]
  },
  {
   "cell_type": "markdown",
   "metadata": {},
   "source": [
    "**Observations:** Il n´y a pas de valeurs manquantes"
   ]
  },
  {
   "cell_type": "code",
   "execution_count": 7,
   "metadata": {},
   "outputs": [
    {
     "data": {
      "text/plain": [
       "int64      6\n",
       "float64    5\n",
       "object     3\n",
       "Name: count, dtype: int64"
      ]
     },
     "execution_count": 7,
     "metadata": {},
     "output_type": "execute_result"
    }
   ],
   "source": [
    "train_df.dtypes.value_counts()"
   ]
  },
  {
   "cell_type": "code",
   "execution_count": 8,
   "metadata": {},
   "outputs": [
    {
     "data": {
      "text/plain": [
       "ID                   int64\n",
       "CustomerId           int64\n",
       "Surname             object\n",
       "CreditScore          int64\n",
       "Geography           object\n",
       "Gender              object\n",
       "Age                float64\n",
       "Tenure               int64\n",
       "Balance            float64\n",
       "NumOfProducts        int64\n",
       "HasCrCard          float64\n",
       "IsActiveMember     float64\n",
       "EstimatedSalary    float64\n",
       "Exited               int64\n",
       "dtype: object"
      ]
     },
     "execution_count": 8,
     "metadata": {},
     "output_type": "execute_result"
    }
   ],
   "source": [
    "train_df.dtypes"
   ]
  },
  {
   "cell_type": "code",
   "execution_count": 9,
   "metadata": {},
   "outputs": [
    {
     "data": {
      "text/html": [
       "<div>\n",
       "<style scoped>\n",
       "    .dataframe tbody tr th:only-of-type {\n",
       "        vertical-align: middle;\n",
       "    }\n",
       "\n",
       "    .dataframe tbody tr th {\n",
       "        vertical-align: top;\n",
       "    }\n",
       "\n",
       "    .dataframe thead th {\n",
       "        text-align: right;\n",
       "    }\n",
       "</style>\n",
       "<table border=\"1\" class=\"dataframe\">\n",
       "  <thead>\n",
       "    <tr style=\"text-align: right;\">\n",
       "      <th></th>\n",
       "      <th>ID</th>\n",
       "      <th>CustomerId</th>\n",
       "      <th>CreditScore</th>\n",
       "      <th>Age</th>\n",
       "      <th>Tenure</th>\n",
       "      <th>Balance</th>\n",
       "      <th>NumOfProducts</th>\n",
       "      <th>HasCrCard</th>\n",
       "      <th>IsActiveMember</th>\n",
       "      <th>EstimatedSalary</th>\n",
       "      <th>Exited</th>\n",
       "    </tr>\n",
       "  </thead>\n",
       "  <tbody>\n",
       "    <tr>\n",
       "      <th>count</th>\n",
       "      <td>114863.000000</td>\n",
       "      <td>1.148630e+05</td>\n",
       "      <td>114863.000000</td>\n",
       "      <td>114863.000000</td>\n",
       "      <td>114863.000000</td>\n",
       "      <td>114863.000000</td>\n",
       "      <td>114863.000000</td>\n",
       "      <td>114863.000000</td>\n",
       "      <td>114863.000000</td>\n",
       "      <td>114863.000000</td>\n",
       "      <td>114863.000000</td>\n",
       "    </tr>\n",
       "    <tr>\n",
       "      <th>mean</th>\n",
       "      <td>82568.369989</td>\n",
       "      <td>1.569197e+07</td>\n",
       "      <td>656.524947</td>\n",
       "      <td>38.139767</td>\n",
       "      <td>5.021069</td>\n",
       "      <td>55509.177787</td>\n",
       "      <td>1.553538</td>\n",
       "      <td>0.754046</td>\n",
       "      <td>0.497097</td>\n",
       "      <td>112504.938242</td>\n",
       "      <td>0.211809</td>\n",
       "    </tr>\n",
       "    <tr>\n",
       "      <th>std</th>\n",
       "      <td>47641.832028</td>\n",
       "      <td>7.138472e+04</td>\n",
       "      <td>80.008532</td>\n",
       "      <td>8.870904</td>\n",
       "      <td>2.807091</td>\n",
       "      <td>62804.248897</td>\n",
       "      <td>0.546911</td>\n",
       "      <td>0.430653</td>\n",
       "      <td>0.499994</td>\n",
       "      <td>50300.140367</td>\n",
       "      <td>0.408592</td>\n",
       "    </tr>\n",
       "    <tr>\n",
       "      <th>min</th>\n",
       "      <td>0.000000</td>\n",
       "      <td>1.556570e+07</td>\n",
       "      <td>350.000000</td>\n",
       "      <td>18.000000</td>\n",
       "      <td>0.000000</td>\n",
       "      <td>0.000000</td>\n",
       "      <td>1.000000</td>\n",
       "      <td>0.000000</td>\n",
       "      <td>0.000000</td>\n",
       "      <td>11.580000</td>\n",
       "      <td>0.000000</td>\n",
       "    </tr>\n",
       "    <tr>\n",
       "      <th>25%</th>\n",
       "      <td>41322.000000</td>\n",
       "      <td>1.563288e+07</td>\n",
       "      <td>598.000000</td>\n",
       "      <td>32.000000</td>\n",
       "      <td>3.000000</td>\n",
       "      <td>0.000000</td>\n",
       "      <td>1.000000</td>\n",
       "      <td>1.000000</td>\n",
       "      <td>0.000000</td>\n",
       "      <td>74532.020000</td>\n",
       "      <td>0.000000</td>\n",
       "    </tr>\n",
       "    <tr>\n",
       "      <th>50%</th>\n",
       "      <td>82553.000000</td>\n",
       "      <td>1.569018e+07</td>\n",
       "      <td>659.000000</td>\n",
       "      <td>37.000000</td>\n",
       "      <td>5.000000</td>\n",
       "      <td>0.000000</td>\n",
       "      <td>2.000000</td>\n",
       "      <td>1.000000</td>\n",
       "      <td>0.000000</td>\n",
       "      <td>117832.880000</td>\n",
       "      <td>0.000000</td>\n",
       "    </tr>\n",
       "    <tr>\n",
       "      <th>75%</th>\n",
       "      <td>123815.500000</td>\n",
       "      <td>1.575666e+07</td>\n",
       "      <td>710.000000</td>\n",
       "      <td>42.000000</td>\n",
       "      <td>7.000000</td>\n",
       "      <td>119912.460000</td>\n",
       "      <td>2.000000</td>\n",
       "      <td>1.000000</td>\n",
       "      <td>1.000000</td>\n",
       "      <td>155023.930000</td>\n",
       "      <td>0.000000</td>\n",
       "    </tr>\n",
       "    <tr>\n",
       "      <th>max</th>\n",
       "      <td>165033.000000</td>\n",
       "      <td>1.581569e+07</td>\n",
       "      <td>850.000000</td>\n",
       "      <td>92.000000</td>\n",
       "      <td>10.000000</td>\n",
       "      <td>250898.090000</td>\n",
       "      <td>4.000000</td>\n",
       "      <td>1.000000</td>\n",
       "      <td>1.000000</td>\n",
       "      <td>199992.480000</td>\n",
       "      <td>1.000000</td>\n",
       "    </tr>\n",
       "  </tbody>\n",
       "</table>\n",
       "</div>"
      ],
      "text/plain": [
       "                  ID    CustomerId    CreditScore            Age  \\\n",
       "count  114863.000000  1.148630e+05  114863.000000  114863.000000   \n",
       "mean    82568.369989  1.569197e+07     656.524947      38.139767   \n",
       "std     47641.832028  7.138472e+04      80.008532       8.870904   \n",
       "min         0.000000  1.556570e+07     350.000000      18.000000   \n",
       "25%     41322.000000  1.563288e+07     598.000000      32.000000   \n",
       "50%     82553.000000  1.569018e+07     659.000000      37.000000   \n",
       "75%    123815.500000  1.575666e+07     710.000000      42.000000   \n",
       "max    165033.000000  1.581569e+07     850.000000      92.000000   \n",
       "\n",
       "              Tenure        Balance  NumOfProducts      HasCrCard  \\\n",
       "count  114863.000000  114863.000000  114863.000000  114863.000000   \n",
       "mean        5.021069   55509.177787       1.553538       0.754046   \n",
       "std         2.807091   62804.248897       0.546911       0.430653   \n",
       "min         0.000000       0.000000       1.000000       0.000000   \n",
       "25%         3.000000       0.000000       1.000000       1.000000   \n",
       "50%         5.000000       0.000000       2.000000       1.000000   \n",
       "75%         7.000000  119912.460000       2.000000       1.000000   \n",
       "max        10.000000  250898.090000       4.000000       1.000000   \n",
       "\n",
       "       IsActiveMember  EstimatedSalary         Exited  \n",
       "count   114863.000000    114863.000000  114863.000000  \n",
       "mean         0.497097    112504.938242       0.211809  \n",
       "std          0.499994     50300.140367       0.408592  \n",
       "min          0.000000        11.580000       0.000000  \n",
       "25%          0.000000     74532.020000       0.000000  \n",
       "50%          0.000000    117832.880000       0.000000  \n",
       "75%          1.000000    155023.930000       0.000000  \n",
       "max          1.000000    199992.480000       1.000000  "
      ]
     },
     "execution_count": 9,
     "metadata": {},
     "output_type": "execute_result"
    }
   ],
   "source": [
    "train_df.describe()"
   ]
  },
  {
   "cell_type": "markdown",
   "metadata": {},
   "source": [
    "**Observations:** \n",
    "Le dataset se compose des variables suivantes:\n",
    "* Variables discrètes: *ID, CustomerId, Surname, Geography, Gender, NumOfProducts, HasCrCard, IsActiveMember, Exited (Target)*\n",
    "\n",
    "* Variables continues: *CreditScore, Age, Tenure, Balance, EstimatedSalary*\n",
    "\n",
    "## 1. Analyse des variables discrètes\n",
    "\n",
    "On va exclure la column *'ID'* de l´analyse car elle ne sert uniquement qu´à l´évaluation dans Kaggle\n",
    "\n",
    "### 1.1 Analyse de la variable 'Exited' (Target)\n"
   ]
  },
  {
   "cell_type": "code",
   "execution_count": 113,
   "metadata": {},
   "outputs": [
    {
     "data": {
      "image/png": "[encoded data removed]",
      "text/plain": [
       "<Figure size 400x300 with 1 Axes>"
      ]
     },
     "metadata": {},
     "output_type": "display_data"
    }
   ],
   "source": [
    "plt.figure(figsize=(4,3))\n",
    "plt.title('Répartition de la variable cible')\n",
    "sns.countplot(data=train_df, x='Exited', hue='Exited')\n",
    "plt.show()"
   ]
  },
  {
   "cell_type": "markdown",
   "metadata": {},
   "source": [
    "**Observations:** \n",
    "\n",
    "- Une majorité de client n´ont pas résilié.\n",
    "\n",
    "- La répartition de la variable target est déséquilibré.\n",
    "\n",
    "### 1.2 Analyse de la variable CustomerID"
   ]
  },
  {
   "cell_type": "code",
   "execution_count": 11,
   "metadata": {},
   "outputs": [
    {
     "data": {
      "text/plain": [
       "count      64.000000\n",
       "mean      316.312500\n",
       "std      1075.493344\n",
       "min         1.000000\n",
       "10%         1.000000\n",
       "20%         2.600000\n",
       "50%        25.000000\n",
       "99%      4578.080000\n",
       "100%     8222.000000\n",
       "max      8222.000000\n",
       "Name: count, dtype: float64"
      ]
     },
     "execution_count": 11,
     "metadata": {},
     "output_type": "execute_result"
    }
   ],
   "source": [
    "nr_entree_client = train_df.CustomerId.value_counts().value_counts()\n",
    "nr_entree_client.describe(percentiles=[.1, 0.2, .99, 1])"
   ]
  },
  {
   "cell_type": "code",
   "execution_count": 106,
   "metadata": {},
   "outputs": [
    {
     "name": "stdout",
     "output_type": "stream",
     "text": [
      "Nombre de CustomerId unique dans le jeu de données: 20244\n",
      "\n",
      "--- Dénombre les entrées par CustomerId ---\n",
      "\n",
      "CustomerId\n",
      "15565701     2\n",
      "15565706     4\n",
      "15565714     3\n",
      "15565779     5\n",
      "15565796     3\n",
      "            ..\n",
      "15815630     1\n",
      "15815645    10\n",
      "15815660     2\n",
      "15815670     1\n",
      "15815690     6\n",
      "Name: count, Length: 20244, dtype: int64\n",
      "\n",
      " --- Répartition des CustomerId --- \n",
      "\n",
      "count    20244.000000\n",
      "mean         5.673928\n",
      "std          7.229263\n",
      "min          1.000000\n",
      "40%          1.000000\n",
      "41%          2.000000\n",
      "50%          2.000000\n",
      "99%         33.000000\n",
      "100%        90.000000\n",
      "max         90.000000\n",
      "Name: count, dtype: float64\n"
     ]
    }
   ],
   "source": [
    "print(f\"Nombre de CustomerId unique dans le jeu de données: {train_df.CustomerId.nunique()}\")\n",
    "print(\"\\n--- Dénombre les entrées par CustomerId ---\\n\")\n",
    "pprint(train_df.CustomerId.value_counts().sort_index())\n",
    "print(\"\\n --- Répartition des CustomerId --- \\n\")\n",
    "pprint(train_df.CustomerId.value_counts().describe(percentiles=[.4, 0.41, .99, 1]))"
   ]
  },
  {
   "cell_type": "code",
   "execution_count": 112,
   "metadata": {},
   "outputs": [
    {
     "data": {
      "image/png": "[encoded data removed]",
      "text/plain": [
       "<Figure size 1200x300 with 1 Axes>"
      ]
     },
     "metadata": {},
     "output_type": "display_data"
    }
   ],
   "source": [
    "plt.figure(figsize=(12,3))\n",
    "plt.title('Nombre d´apparation de chaque ID client')\n",
    "sns.histplot(data=train_df, x='CustomerId')\n",
    "plt.show()"
   ]
  },
  {
   "cell_type": "markdown",
   "metadata": {},
   "source": [
    "**Observations:**\n",
    "* 40% des clients n´ont qu´une seule entrée.\n",
    "* Un client cumule 90 entrées et semble très éloigné de la moyenne.\n",
    "* En moyenne un client est représenté 5,6 ± 7,2.\n",
    "\n",
    "### 1.3 Surname"
   ]
  },
  {
   "cell_type": "code",
   "execution_count": 105,
   "metadata": {},
   "outputs": [
    {
     "name": "stdout",
     "output_type": "stream",
     "text": [
      "\n",
      "--- Dénombre les Surnames ---\n",
      "Surname\n",
      "Abazu       1\n",
      "Abbie       3\n",
      "Abbott     17\n",
      "Abdulov     7\n",
      "Abel        2\n",
      "           ..\n",
      "Zox        11\n",
      "Zubarev     3\n",
      "Zuev       12\n",
      "Zuyev      39\n",
      "Zuyeva     43\n",
      "Name: count, Length: 2703, dtype: int64\n"
     ]
    }
   ],
   "source": [
    "print(\"\\n--- Dénombre les Surnames ---\")\n",
    "print(train_df.Surname.value_counts().sort_index())"
   ]
  },
  {
   "cell_type": "code",
   "execution_count": 111,
   "metadata": {},
   "outputs": [
    {
     "data": {
      "text/plain": [
       "([], [])"
      ]
     },
     "execution_count": 111,
     "metadata": {},
     "output_type": "execute_result"
    },
    {
     "data": {
      "image/png": "[encoded data removed]",
      "text/plain": [
       "<Figure size 1200x300 with 1 Axes>"
      ]
     },
     "metadata": {},
     "output_type": "display_data"
    }
   ],
   "source": [
    "plt.title('Nombre d´apparition de chaque nom de famille')\n",
    "train_df.Surname.value_counts().sort_index().plot(kind='bar', figsize=(12,3))\n",
    "plt.xticks([])"
   ]
  },
  {
   "cell_type": "markdown",
   "metadata": {},
   "source": [
    "**Observations:**\n",
    "* Il y a 2703 nom de famille dans le dataset.\n",
    "\n",
    "### 1.4 Geography"
   ]
  },
  {
   "cell_type": "code",
   "execution_count": 78,
   "metadata": {},
   "outputs": [
    {
     "name": "stdout",
     "output_type": "stream",
     "text": [
      "\n",
      "--- Dénombre la feature 'Geography' ---\n",
      "Geography\n",
      "France     65578\n",
      "Spain      25248\n",
      "Germany    24037\n",
      "Name: count, dtype: int64\n"
     ]
    }
   ],
   "source": [
    "print(\"\\n--- Dénombre la feature 'Geography' ---\")\n",
    "print(train_df.Geography.value_counts())"
   ]
  },
  {
   "cell_type": "code",
   "execution_count": 110,
   "metadata": {},
   "outputs": [
    {
     "data": {
      "image/png": "[encoded data removed]",
      "text/plain": [
       "<Figure size 1200x300 with 1 Axes>"
      ]
     },
     "metadata": {},
     "output_type": "display_data"
    }
   ],
   "source": [
    "data = train_df.Geography.value_counts(ascending=False)\n",
    "plt.figure(figsize=(12,3))\n",
    "plt.title('Nombre d´apparition de chaque pays')\n",
    "sns.histplot(data=train_df, x='Geography', hue='Geography')\n",
    "plt.show()"
   ]
  },
  {
   "cell_type": "markdown",
   "metadata": {},
   "source": [
    "**Observations:**\n",
    "* Une majorité des observations viennent de France.\n",
    "* Les données sont issues des banques francaises, allemandes, espagnoles.\n",
    "\n",
    "### 1.5 Gender"
   ]
  },
  {
   "cell_type": "code",
   "execution_count": 103,
   "metadata": {},
   "outputs": [
    {
     "name": "stdout",
     "output_type": "stream",
     "text": [
      "\n",
      "--- Dénombre la feature 'Gender' ---\n",
      "Gender\n",
      "Female    50037\n",
      "Male      64826\n",
      "Name: count, dtype: int64\n"
     ]
    }
   ],
   "source": [
    "print(\"\\n--- Dénombre la feature 'Gender' ---\")\n",
    "print(train_df.Gender.value_counts().sort_index())"
   ]
  },
  {
   "cell_type": "code",
   "execution_count": 115,
   "metadata": {},
   "outputs": [
    {
     "data": {
      "image/png": "[encoded data removed]",
      "text/plain": [
       "<Figure size 400x300 with 1 Axes>"
      ]
     },
     "metadata": {},
     "output_type": "display_data"
    }
   ],
   "source": [
    "plt.figure(figsize=(4,3))\n",
    "plt.title(\"Nombre d´apparation de chaque genre\")\n",
    "sns.countplot(data=train_df, x='Gender', hue='Gender')\n",
    "plt.show()"
   ]
  },
  {
   "cell_type": "markdown",
   "metadata": {},
   "source": [
    "**Observations:** Les hommes sont légèrement plus représenté que les femmes dans le dataset.\n",
    "\n",
    "### 1.6 NumOfProducts"
   ]
  },
  {
   "cell_type": "code",
   "execution_count": 102,
   "metadata": {},
   "outputs": [
    {
     "name": "stdout",
     "output_type": "stream",
     "text": [
      "\n",
      "--- Dénombre la feature 'NumOfProducts' ---\n",
      "NumOfProducts\n",
      "1    53938\n",
      "2    58598\n",
      "3     1998\n",
      "4      329\n",
      "Name: count, dtype: int64\n"
     ]
    }
   ],
   "source": [
    "print(\"\\n--- Dénombre la feature 'NumOfProducts' ---\")\n",
    "print(train_df.NumOfProducts.value_counts().sort_index())"
   ]
  },
  {
   "cell_type": "code",
   "execution_count": 118,
   "metadata": {},
   "outputs": [
    {
     "data": {
      "image/png": "[encoded data removed]",
      "text/plain": [
       "<Figure size 400x300 with 1 Axes>"
      ]
     },
     "metadata": {},
     "output_type": "display_data"
    }
   ],
   "source": [
    "plt.figure(figsize=(4,3))\n",
    "plt.title(\"Nombre d´apparation du nombre de produit bancaire utilisé par le client.\")\n",
    "sns.countplot(data=train_df, x='NumOfProducts', hue='NumOfProducts')\n",
    "plt.show()"
   ]
  },
  {
   "cell_type": "markdown",
   "metadata": {},
   "source": [
    "**Observations:** \n",
    "* Une large majorité de clients utilisent 1 ou 2 produits bancaires.\n",
    "* Au maximum 4 produits bancaires sont utilisés par les clients.\n",
    "\n",
    "### 1.7 HasCrCard"
   ]
  },
  {
   "cell_type": "code",
   "execution_count": 119,
   "metadata": {},
   "outputs": [
    {
     "name": "stdout",
     "output_type": "stream",
     "text": [
      "\n",
      "--- Dénombre la feature 'HasCrCard' ---\n",
      "HasCrCard\n",
      "0.0    28251\n",
      "1.0    86612\n",
      "Name: count, dtype: int64\n"
     ]
    }
   ],
   "source": [
    "print(\"\\n--- Dénombre la feature 'HasCrCard' ---\")\n",
    "print(train_df.HasCrCard.value_counts().sort_index())"
   ]
  },
  {
   "cell_type": "code",
   "execution_count": 128,
   "metadata": {},
   "outputs": [
    {
     "data": {
      "image/png": "[encoded data removed]",
      "text/plain": [
       "<Figure size 400x300 with 1 Axes>"
      ]
     },
     "metadata": {},
     "output_type": "display_data"
    }
   ],
   "source": [
    "plt.figure(figsize=(4,3))\n",
    "plt.title(\"Nombre de détenteur d´une carte de crédit\")\n",
    "sns.countplot(data=train_df, x='HasCrCard', hue='HasCrCard')\n",
    "plt.xticks([0, 1], ['Non', 'Oui'])\n",
    "plt.legend([],[], frameon=False)\n",
    "plt.show()"
   ]
  },
  {
   "cell_type": "markdown",
   "metadata": {},
   "source": [
    "**Observations:** Une large majorité de client possède une carte de crédit.\n",
    "\n",
    "### 1.8 IsActiveMember"
   ]
  },
  {
   "cell_type": "code",
   "execution_count": 129,
   "metadata": {},
   "outputs": [
    {
     "name": "stdout",
     "output_type": "stream",
     "text": [
      "\n",
      "--- Dénombre les clients actifs ---\n",
      "IsActiveMember\n",
      "0.0    57765\n",
      "1.0    57098\n",
      "Name: count, dtype: int64\n"
     ]
    }
   ],
   "source": [
    "print(\"\\n--- Dénombre les clients actifs ---\")\n",
    "print(train_df.IsActiveMember.value_counts().sort_index())"
   ]
  },
  {
   "cell_type": "code",
   "execution_count": 130,
   "metadata": {},
   "outputs": [
    {
     "data": {
      "image/png": "[encoded data removed]",
      "text/plain": [
       "<Figure size 400x300 with 1 Axes>"
      ]
     },
     "metadata": {},
     "output_type": "display_data"
    }
   ],
   "source": [
    "plt.figure(figsize=(4,3))\n",
    "plt.title(\"Nombre de client actif\")\n",
    "sns.countplot(data=train_df, x='IsActiveMember', hue='IsActiveMember')\n",
    "plt.xticks([0, 1], ['Non', 'Oui'])\n",
    "plt.legend([],[], frameon=False)\n",
    "plt.show()"
   ]
  },
  {
   "cell_type": "markdown",
   "metadata": {},
   "source": [
    "**Observations:** On a autant de client actif qu´inactif dans le jeu de donnée.\n",
    "\n",
    "\n",
    "\n",
    "## 2. Analyse des variables continues\n",
    "### 2.1 CreditScore"
   ]
  },
  {
   "cell_type": "markdown",
   "metadata": {},
   "source": [
    "### 2.2 Age"
   ]
  },
  {
   "cell_type": "markdown",
   "metadata": {},
   "source": [
    "**Observations:**\n",
    "\n",
    "### 2.3 Tenure"
   ]
  },
  {
   "cell_type": "markdown",
   "metadata": {},
   "source": [
    "**Observations:**\n",
    "\n",
    "### 2.4 Balance"
   ]
  },
  {
   "cell_type": "markdown",
   "metadata": {},
   "source": [
    "**Observations:**\n",
    "\n",
    "### 2.5 EstimatedSalary"
   ]
  },
  {
   "cell_type": "markdown",
   "metadata": {},
   "source": [
    "**Observations:**"
   ]
  },
  {
   "cell_type": "markdown",
   "metadata": {},
   "source": [
    "**Idées:**\n",
    "* Plusieurs clients partagent le même nom car il y 2703 nom de famille et  20244 customer ID. "
   ]
  },
  {
   "cell_type": "markdown",
   "metadata": {},
   "source": []
  }
 ],
 "metadata": {
  "kernelspec": {
   "display_name": ".venv",
   "language": "python",
   "name": "python3"
  },
  "language_info": {
   "codemirror_mode": {
    "name": "ipython",
    "version": 3
   },
   "file_extension": ".py",
   "mimetype": "text/x-python",
   "name": "python",
   "nbconvert_exporter": "python",
   "pygments_lexer": "ipython3",
   "version": "3.10.16"
  }
 },
 "nbformat": 4,
 "nbformat_minor": 2
}
